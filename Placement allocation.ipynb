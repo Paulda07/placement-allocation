{
 "cells": [
  {
   "cell_type": "code",
   "execution_count": 1,
   "metadata": {},
   "outputs": [],
   "source": [
    "import pandas as pd"
   ]
  },
  {
   "cell_type": "code",
   "execution_count": 2,
   "metadata": {},
   "outputs": [],
   "source": [
    "pd.options.mode.chained_assignment = None  # default='warn'\n"
   ]
  },
  {
   "cell_type": "code",
   "execution_count": 3,
   "metadata": {},
   "outputs": [],
   "source": [
    "student_info=pd.read_excel(\"Total.xlsx\")\n",
    "Capgemini=pd.read_excel(\"Capgemini Results 10.09.2018.xlsx\")\n",
    "Infosys=pd.read_excel(\"Final selects-Infosys Ltd.xlsx\")\n",
    "CTS=pd.read_excel(\"CTS 2019 Batch CBIT Selects.xlsx\")\n",
    "preferences=pd.read_excel(\"Day-1 Sharing Preferences.xlsx\")"
   ]
  },
  {
   "cell_type": "code",
   "execution_count": 4,
   "metadata": {
    "scrolled": true
   },
   "outputs": [],
   "source": [
    "student_info.set_index('Roll.No.',inplace=True)\n",
    "Capgemini.set_index('Roll Number',inplace=True)\n",
    "Infosys.set_index('Roll No.',inplace=True)\n",
    "CTS.set_index('Current University Reg No',inplace=True)\n",
    "preferences.set_index('Roll No.',inplace=True)\n"
   ]
  },
  {
   "cell_type": "code",
   "execution_count": 5,
   "metadata": {},
   "outputs": [],
   "source": [
    "for roll in student_info.index:\n",
    "    if type(roll)== str and '-' in roll:\n",
    "        roll_split=roll.split('-')\n",
    "        modified_roll=''\n",
    "        for i in roll_split:\n",
    "            modified_roll+=i\n",
    "        modified_roll=int(modified_roll)\n",
    "        student_info=student_info.rename({roll: modified_roll})"
   ]
  },
  {
   "cell_type": "code",
   "execution_count": 6,
   "metadata": {},
   "outputs": [],
   "source": [
    "final_Infosys=[]\n",
    "final_Capgemini=[]\n",
    "final_CTS=[]"
   ]
  },
  {
   "cell_type": "code",
   "execution_count": 7,
   "metadata": {
    "scrolled": true
   },
   "outputs": [],
   "source": [
    "preferences=preferences.groupby(level=0).first()"
   ]
  },
  {
   "cell_type": "code",
   "execution_count": 8,
   "metadata": {},
   "outputs": [],
   "source": [
    "first_preference = (preferences.index)"
   ]
  },
  {
   "cell_type": "code",
   "execution_count": 9,
   "metadata": {},
   "outputs": [],
   "source": [
    "## converting '1601-##-###-###' to 1601########\n",
    "for roll in first_preference:\n",
    "    if type(roll)== str and '-' in roll:\n",
    "        roll_split=roll.split('-')\n",
    "        modified_roll=''\n",
    "        for i in roll_split:\n",
    "            modified_roll+=i\n",
    "        modified_roll=int(modified_roll)\n",
    "        preferences=preferences.rename({roll: modified_roll})"
   ]
  },
  {
   "cell_type": "code",
   "execution_count": 10,
   "metadata": {},
   "outputs": [],
   "source": [
    "first_preference = preferences.index"
   ]
  },
  {
   "cell_type": "code",
   "execution_count": 11,
   "metadata": {
    "scrolled": true
   },
   "outputs": [],
   "source": [
    "for roll in first_preference:\n",
    "    if preferences['Preference-1'][roll] == 'Infosys':\n",
    "        if roll in Infosys.index:\n",
    "            final_Infosys.append(roll)\n",
    "    elif preferences['Preference-1'][roll] == 'Cognizant':\n",
    "        if roll in CTS.index:\n",
    "            final_CTS.append(roll)\n",
    "    elif preferences['Preference-1'][roll] == 'Capgemini':\n",
    "        if roll in Capgemini.index:\n",
    "            final_Capgemini.append(roll)"
   ]
  },
  {
   "cell_type": "code",
   "execution_count": 12,
   "metadata": {},
   "outputs": [],
   "source": [
    "second_preference= [roll for roll in first_preference if roll not in final_CTS and roll not in final_Capgemini and roll not in final_Infosys]"
   ]
  },
  {
   "cell_type": "code",
   "execution_count": 13,
   "metadata": {},
   "outputs": [],
   "source": [
    "for roll in second_preference:\n",
    "    if preferences['Preference-2'][roll] == 'Infosys':\n",
    "        if roll in Infosys.index:\n",
    "            final_Infosys.append(roll)\n",
    "    elif preferences['Preference-2'][roll] == 'Cognizant':\n",
    "        if roll in CTS.index:\n",
    "            final_CTS.append(roll)\n",
    "    elif preferences['Preference-2'][roll] == 'Capgemini':\n",
    "        if roll in Capgemini.index:\n",
    "            final_Capgemini.append(roll)"
   ]
  },
  {
   "cell_type": "code",
   "execution_count": 14,
   "metadata": {},
   "outputs": [],
   "source": [
    "third_preference=[roll for roll in second_preference if roll not in final_CTS and roll not in final_Capgemini and roll not in final_Infosys]"
   ]
  },
  {
   "cell_type": "code",
   "execution_count": 15,
   "metadata": {},
   "outputs": [],
   "source": [
    "for roll in third_preference:\n",
    "    if preferences['Preference-3'][roll] == 'Infosys':\n",
    "        if roll in Infosys.index:\n",
    "            final_Infosys.append(roll)\n",
    "    elif preferences['Preference-3'][roll] == 'Cognizant':\n",
    "        if roll in CTS.index:\n",
    "            final_CTS.append(roll)\n",
    "    elif preferences['Preference-3'][roll] == 'Capgemini':\n",
    "        if roll in Capgemini.index:\n",
    "            final_Capgemini.append(roll)"
   ]
  },
  {
   "cell_type": "code",
   "execution_count": 16,
   "metadata": {},
   "outputs": [],
   "source": [
    "not_placed=[roll for roll in third_preference if roll not in final_CTS and roll not in final_Capgemini and roll not in final_Infosys]"
   ]
  },
  {
   "cell_type": "code",
   "execution_count": 17,
   "metadata": {
    "scrolled": true
   },
   "outputs": [],
   "source": [
    "student_info['Company selected']=pd.np.nan\n",
    "for roll in student_info.index:\n",
    "    if roll in final_CTS:\n",
    "        student_info['Company selected'][roll]='Cognizant'\n",
    "    elif roll in final_Capgemini:\n",
    "        student_info['Company selected'][roll]='Capgemini'\n",
    "    elif roll in final_Infosys:\n",
    "        student_info['Company selected'][roll]='Infosys'\n",
    "    elif roll in not_placed:\n",
    "        student_info['Company selected'][roll]='Not placed'\n",
    "    else:\n",
    "        student_info['Company selected'][roll]='Not participated'"
   ]
  },
  {
   "cell_type": "code",
   "execution_count": null,
   "metadata": {},
   "outputs": [],
   "source": []
  }
 ],
 "metadata": {
  "kernelspec": {
   "display_name": "Python 3",
   "language": "python",
   "name": "python3"
  },
  "language_info": {
   "codemirror_mode": {
    "name": "ipython",
    "version": 3
   },
   "file_extension": ".py",
   "mimetype": "text/x-python",
   "name": "python",
   "nbconvert_exporter": "python",
   "pygments_lexer": "ipython3",
   "version": "3.6.5"
  }
 },
 "nbformat": 4,
 "nbformat_minor": 2
}
