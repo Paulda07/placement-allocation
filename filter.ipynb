{
 "cells": [
  {
   "cell_type": "code",
   "execution_count": 1,
   "metadata": {},
   "outputs": [],
   "source": [
    "import numpy as np\n",
    "import pandas as pd"
   ]
  },
  {
   "cell_type": "code",
   "execution_count": 2,
   "metadata": {
    "scrolled": true
   },
   "outputs": [],
   "source": [
    "cap=pd.read_excel(\"/Users/vsvsvarma/Desktop/placement project/Capgemini.xlsx\")\n",
    "cts=pd.read_excel(r\"/Users/vsvsvarma/Desktop/placement project/CTS.xlsx\")\n",
    "infy=pd.read_excel(r\"/Users/vsvsvarma/Desktop/placement project/infy.xlsx\")\n",
    "preference=pd.read_excel(r\"/Users/vsvsvarma/Desktop/placement project/preference.xlsx\")\n",
    "student_info=pd.read_excel(r\"/Users/vsvsvarma/Desktop/placement project/total.xlsx\")"
   ]
  },
  {
   "cell_type": "code",
   "execution_count": 3,
   "metadata": {},
   "outputs": [],
   "source": [
    "cap.set_index(cap.columns[1],inplace=True)\n",
    "cts.set_index(cts.columns[0],inplace=True)\n",
    "infy.set_index(infy.columns[0],inplace=True)\n",
    "preference.set_index(preference.columns[1],inplace=True)\n",
    "student_info.set_index(student_info.columns[1],inplace=True)"
   ]
  },
  {
   "cell_type": "code",
   "execution_count": 4,
   "metadata": {
    "scrolled": true
   },
   "outputs": [],
   "source": [
    "a=['Infosys','Capgemini','Cognizant']"
   ]
  },
  {
   "cell_type": "code",
   "execution_count": 5,
   "metadata": {},
   "outputs": [
    {
     "name": "stdout",
     "output_type": "stream",
     "text": [
      "38 51 9 31 119 29 38\n"
     ]
    }
   ],
   "source": [
    "all3=[]\n",
    "inf_cts=[]\n",
    "cts_cap=[]\n",
    "cap_inf=[]\n",
    "oinf=[]\n",
    "ocap=[]\n",
    "octs=[]\n",
    "for roll in preference.index.values:\n",
    "        if roll in infy.index.values :\n",
    "            if roll in cts.index.values:\n",
    "                if roll in cap.index.values:\n",
    "                    all3.append(roll)\n",
    "                else:\n",
    "                    inf_cts.append(roll)\n",
    "        if roll in infy.index.values :\n",
    "            if roll in cap.index.values:\n",
    "                if roll in cts.index.values:\n",
    "                    pass\n",
    "                else:\n",
    "                    cap_inf.append(roll)\n",
    "        if roll in cap.index.values :\n",
    "            if roll in cts.index.values:\n",
    "                if roll in infy.index.values:\n",
    "                    pass\n",
    "                else:\n",
    "                    cts_cap.append(roll)\n",
    "        if roll in infy.index.values :\n",
    "            if roll not in cts.index.values:\n",
    "                if roll not in cap.index.values:\n",
    "                    oinf.append(roll)\n",
    "        if roll in cts.index.values :\n",
    "            if roll not in infy.index.values:\n",
    "                if roll not in cap.index.values:\n",
    "                    octs.append(roll)\n",
    "        if roll in cap.index.values :\n",
    "            if roll not in cts.index.values:\n",
    "                if roll not in infy.index.values:\n",
    "                    ocap.append(roll)\n",
    "        \n",
    "print(len(all3),\n",
    "len(inf_cts),\n",
    "len(cts_cap),\n",
    "len(cap_inf),\n",
    "len(oinf),\n",
    "len(ocap),\n",
    "len(octs)) "
   ]
  },
  {
   "cell_type": "code",
   "execution_count": 6,
   "metadata": {},
   "outputs": [
    {
     "name": "stdout",
     "output_type": "stream",
     "text": [
      "31 188 96\n"
     ]
    }
   ],
   "source": [
    "Infosys=oinf\n",
    "Capgemini=ocap\n",
    "Cognizant=octs\n",
    "\n",
    "for roll in all3:\n",
    "    if preference.loc[roll]['Preference-1']==a[0]:\n",
    "        Infosys.append(roll)\n",
    "    elif preference.loc[roll]['Preference-1']==a[1]:\n",
    "        Capgemini.append(roll)\n",
    "    elif preference.loc[roll]['Preference-1']==a[2]:\n",
    "        Cognizant.append(roll)\n",
    "for roll in inf_cts:\n",
    "    if preference.loc[roll]['Preference-1']==a[0]:\n",
    "        Infosys.append(roll)\n",
    "    elif preference.loc[roll]['Preference-1']==a[2]:\n",
    "        Cognizant.append(roll)\n",
    "    elif preference.loc[roll]['Preference-2']==a[0]:\n",
    "        Infosys.append(roll)\n",
    "    elif preference.loc[roll]['Preference-2']==a[2]:\n",
    "        Cognizant.append(roll)\n",
    "for roll in cts_cap:\n",
    "    if preference.loc[roll]['Preference-1']==a[2]:\n",
    "        Cognizant.append(roll)\n",
    "    elif preference.loc[roll]['Preference-1']==a[1]:\n",
    "        Capgemini.append(roll)\n",
    "    elif preference.loc[roll]['Preference-2']==a[2]:\n",
    "        Cognizant.append(roll)\n",
    "    elif preference.loc[roll]['Preference-2']==a[1]:\n",
    "        Capgemini.append(roll)\n",
    "for roll in cap_inf:\n",
    "    if preference.loc[roll]['Preference-1']==a[0]:\n",
    "        Infosys.append(roll)\n",
    "    elif preference.loc[roll]['Preference-1']==a[1]:\n",
    "        Capgemini.append(roll)\n",
    "    elif preference.loc[roll]['Preference-2']==a[0]:\n",
    "        Infosys.append(roll)\n",
    "    elif preference.loc[roll]['Preference-2']==a[1]:\n",
    "        Capgemini.append(roll)\n",
    "print(len(Capgemini),len(Infosys),len(Cognizant))"
   ]
  },
  {
   "cell_type": "code",
   "execution_count": null,
   "metadata": {},
   "outputs": [],
   "source": []
  }
 ],
 "metadata": {
  "kernelspec": {
   "display_name": "Python 3",
   "language": "python",
   "name": "python3"
  },
  "language_info": {
   "codemirror_mode": {
    "name": "ipython",
    "version": 3
   },
   "file_extension": ".py",
   "mimetype": "text/x-python",
   "name": "python",
   "nbconvert_exporter": "python",
   "pygments_lexer": "ipython3",
   "version": "3.6.5"
  }
 },
 "nbformat": 4,
 "nbformat_minor": 2
}
